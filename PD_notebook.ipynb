{
  "nbformat": 4,
  "nbformat_minor": 0,
  "metadata": {
    "colab": {
      "provenance": []
    },
    "kernelspec": {
      "name": "python3",
      "display_name": "Python 3"
    },
    "language_info": {
      "name": "python"
    }
  },
  "cells": [
    {
      "cell_type": "code",
      "source": [
        "!git clone https://github.com/d-stobbe/power-doppler"
      ],
      "metadata": {
        "id": "5Nd822XFzp72"
      },
      "execution_count": null,
      "outputs": []
    },
    {
      "cell_type": "code",
      "source": [
        "%cd /content/power-doppler\n",
        "!git pull"
      ],
      "metadata": {
        "id": "7JpNDW1Szsfe"
      },
      "execution_count": null,
      "outputs": []
    },
    {
      "cell_type": "code",
      "source": [
        "import sys\n",
        "sys.path.append('/content/power-doppler')\n",
        "\n",
        "from preprocessing import standardSVD, randomSVD, adaptiveSVD, reconstructSVD #type: ignore\n",
        "from visualization import makeBmode, makeFlow, plotBlood, plotPowerDoppler #type: ignore\n",
        "from ui import power2D #type: ignore\n",
        "import numpy as np\n",
        "\n",
        "\n",
        "data = np.load('sample_data.npy')\n",
        "\n",
        "power2D(data)"
      ],
      "metadata": {
        "id": "eQTW5XRIz04H"
      },
      "execution_count": null,
      "outputs": []
    }
  ]
}